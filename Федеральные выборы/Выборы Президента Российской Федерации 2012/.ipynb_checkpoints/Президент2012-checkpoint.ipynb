{
 "cells": [
  {
   "cell_type": "code",
   "execution_count": 1,
   "metadata": {},
   "outputs": [
    {
     "name": "stderr",
     "output_type": "stream",
     "text": [
      "100%|██████████| 85/85 [1:47:53<00:00, 76.16s/it]\n"
     ]
    }
   ],
   "source": [
    "#Код создания большого файла по всем УИКам\n",
    "\n",
    "import os\n",
    "import requests\n",
    "from bs4 import BeautifulSoup\n",
    "import pandas as pd\n",
    "import js2py\n",
    "import numpy as np\n",
    "from tqdm import tqdm\n",
    "url_root = \"http://www.vybory.izbirkom.ru/region/region/izbirkom?action=show&root=1&tvd=100100031793509&vrn=100100031793505&region=0&global=1&sub_region=0&prver=0&pronetvd=null&vibid=100100031793509&type=227\"\n",
    "# получить html-код сайта\n",
    "r = requests.get(url_root)\n",
    "soup = BeautifulSoup(r.text, \"lxml\")\n",
    "# Найдем все ссылки на региональные ИК\n",
    "urls = [i.get(\"href\") for i in soup.findAll(\"a\",{\"style\":\"text-decoration: none\"})]\n",
    "urls = list(set(urls))\n",
    "all_tables = []\n",
    "non_format=[]\n",
    "wrong_suburl = []\n",
    "common_table = None\n",
    "for url in tqdm(urls):\n",
    "    try:        \n",
    "        html_code = BeautifulSoup(requests.get(url).text, \"lxml\")\n",
    "        # ссылка на таблицу находится в начале javascript\n",
    "        needed_script = html_code.findAll(\"script\")[0]\n",
    "        js = needed_script.text.replace(\"window.location.assign\", \"return\") + '\\n(getXls());'\n",
    "        table_url = js2py.eval_js(js)    \n",
    "        table = pd.read_excel(table_url)\n",
    "        foldername = \" \".join(table.loc[2][0].split(':')[1].split())\n",
    "        os.makedirs('./' + foldername)\n",
    "        writer = pd.ExcelWriter('./' + foldername + '/' + foldername + '.xls')\n",
    "        table.to_excel(writer,'Sheet1')\n",
    "        writer.save()\n",
    "    except:\n",
    "        non_format.append(url)\n",
    "        # Разобрались с ТИКами начнем с УИКами\n",
    "    r = requests.get(url)\n",
    "    soup = BeautifulSoup(r.text, \"lxml\")\n",
    "    new_urls = soup.findAll(\"a\",{\"style\":\"text-decoration: none\"})\n",
    "    for sub_url in [i.get(\"href\") for i in new_urls]:\n",
    "        r = requests.get(sub_url)\n",
    "        soup = BeautifulSoup(r.text, \"lxml\")\n",
    "        subb_url = soup.findAll(lambda tag: tag.text == \n",
    "                                'сайт избирательной комиссии субъекта Российской Федерации')\n",
    "        if len(subb_url) != 1:\n",
    "            print(\"wrong:\")\n",
    "            print(\"parent url\")\n",
    "            print(url)\n",
    "            print(\"error url\")\n",
    "            print(sub_url)\n",
    "            wrong_suburl.append(sub_url)\n",
    "        else:\n",
    "            url = subb_url[0].get('href')\n",
    "            html_code = BeautifulSoup(requests.get(url).text, \"lxml\")\n",
    "            # ссылка на таблицу находится в начале javascript\n",
    "            needed_script = html_code.findAll(\"script\")[0]\n",
    "            js = needed_script.text.replace(\"window.location.assign\", \"return\") + '\\n(getXls());'\n",
    "            table_url = js2py.eval_js(js)    \n",
    "            table = pd.read_excel(table_url)\n",
    "            name = \" \".join(table.loc[2][0].split(':')[1].split())\n",
    "            ind = np.where(table.values == \"Сумма\")\n",
    "            new_table = table.iloc[ind[0][0]+1:,ind[1][0]+1:]\n",
    "            new_col = table.iloc[ind[0][0],ind[1][0]+1:].values\n",
    "            new_table.columns = new_col\n",
    "            new_index = table.iloc[ind[0][0]+1:,ind[1][0]-1].values\n",
    "            new_table.index = new_index\n",
    "            a = table.iloc[ind[0][0]+1:,ind[1][0]-1].dropna().values\n",
    "            new_table = new_table.loc[a].transpose()\n",
    "            new_table['Название ТИК'] = name\n",
    "            new_table['Название области'] = foldername \n",
    "            if common_table is None:\n",
    "                common_table = pd.DataFrame(columns=new_table.columns)\n",
    "            else:\n",
    "                common_table = common_table.append(new_table)\n",
    "            writer = pd.ExcelWriter('./' + foldername + '/' + 'УИК_' + name + '.xls')\n",
    "            table.to_excel(writer,'Sheet1')\n",
    "            writer.save()\n"
   ]
  },
  {
   "cell_type": "code",
   "execution_count": null,
   "metadata": {
    "collapsed": true
   },
   "outputs": [],
   "source": []
  },
  {
   "cell_type": "code",
   "execution_count": null,
   "metadata": {
    "collapsed": true
   },
   "outputs": [],
   "source": []
  },
  {
   "cell_type": "code",
   "execution_count": null,
   "metadata": {
    "collapsed": true
   },
   "outputs": [],
   "source": []
  },
  {
   "cell_type": "code",
   "execution_count": null,
   "metadata": {
    "collapsed": true
   },
   "outputs": [],
   "source": []
  },
  {
   "cell_type": "code",
   "execution_count": 2,
   "metadata": {
    "collapsed": true
   },
   "outputs": [],
   "source": [
    "common_table.to_csv('common.csv')"
   ]
  },
  {
   "cell_type": "code",
   "execution_count": 3,
   "metadata": {
    "collapsed": true
   },
   "outputs": [],
   "source": [
    "import os\n",
    "import requests\n",
    "from bs4 import BeautifulSoup\n",
    "import pandas as pd\n",
    "import js2py\n",
    "import numpy as np\n",
    "from tqdm import tqdm\n",
    "%matplotlib inline\n",
    "import matplotlib.pyplot as plt\n",
    "from scipy import stats\n",
    "table = pd.read_csv('common.csv', index_col=0)"
   ]
  },
  {
   "cell_type": "code",
   "execution_count": 18,
   "metadata": {},
   "outputs": [],
   "source": [
    "#код отрисовки круты графиков\n",
    "\n",
    "from matplotlib import rc\n",
    "rc('font', size=15)\n",
    "colour = ['k', 'r', 'c', 'b', 'm', 'y', 'g', 'w']\n",
    "for tik in np.unique(table['Название области']):\n",
    "    sub_table = table.loc[table['Название области'] == tik]\n",
    "    tik_table = (sub_table.loc[:, 'Жириновский Владимир Вольфович':\n",
    "                               \"Путин Владимир Владимирович\"].divide(\n",
    "                 sub_table['Число избирательных бюллетеней, полученных участковой избирательной комиссией'].values, \n",
    "                 axis=0))\n",
    "    tik_table['Явка'] = tik_table.sum(axis=1)\n",
    "    (tik_table.loc[:, 'Жириновский Владимир Вольфович':\n",
    "                   \"Путин Владимир Владимирович\"]) = (\n",
    "              (tik_table.loc[:, 'Жириновский Владимир Вольфович':\n",
    "                             \"Путин Владимир Владимирович\"]).divide(\n",
    "              tik_table['Явка'].values, axis=0))\n",
    "    tik_table['Количество голосов'] = sub_table['Число действительных избирательных бюллетеней']\n",
    "    plt.figure(figsize=(20,10))\n",
    "    plt.xlabel(\"Явка\")\n",
    "    plt.ylabel(\"Процент за\")\n",
    "    plt.grid()\n",
    "    plt.title(tik)\n",
    "    for i in range(5):\n",
    "        partai = tik_table.columns[i]\n",
    "        plt.scatter(tik_table.loc[:,'Явка'], \n",
    "                    tik_table.loc[:,partai], \n",
    "                    alpha = 0.15, \n",
    "                    s=tik_table.loc[:,'Количество голосов'] * tik_table.loc[:,partai],\n",
    "                    c=colour[i],\n",
    "                    label=partai)\n",
    "    plt.legend()\n",
    "    plt.savefig('image/' + tik + '.pdf')\n",
    "    plt.close()"
   ]
  },
  {
   "cell_type": "code",
   "execution_count": 39,
   "metadata": {
    "collapsed": true
   },
   "outputs": [],
   "source": [
    "sub_table = table\n",
    "tik_table = (sub_table.loc[:, 'Жириновский Владимир Вольфович':\n",
    "                           \"Путин Владимир Владимирович\"].divide(\n",
    "             sub_table['Число избирателей, включенных в список избирателей'].values, \n",
    "             axis=0))\n",
    "tik_table['Явка'] = tik_table.sum(axis=1)\n",
    "(tik_table.loc[:, 'Жириновский Владимир Вольфович':\n",
    "               \"Путин Владимир Владимирович\"]) = (\n",
    "          (tik_table.loc[:, 'Жириновский Владимир Вольфович':\n",
    "                         \"Путин Владимир Владимирович\"]).divide(\n",
    "          tik_table['Явка'].values, axis=0))\n",
    "tik_table['Количество голосов'] = sub_table['Число избирателей, включенных в список избирателей']\n",
    "weights = tik_table['Количество голосов'] / tik_table['Количество голосов'].sum()"
   ]
  },
  {
   "cell_type": "code",
   "execution_count": null,
   "metadata": {
    "collapsed": true
   },
   "outputs": [],
   "source": []
  },
  {
   "cell_type": "code",
   "execution_count": null,
   "metadata": {
    "collapsed": true
   },
   "outputs": [],
   "source": []
  },
  {
   "cell_type": "code",
   "execution_count": null,
   "metadata": {
    "collapsed": true
   },
   "outputs": [],
   "source": []
  },
  {
   "cell_type": "code",
   "execution_count": null,
   "metadata": {
    "collapsed": true
   },
   "outputs": [],
   "source": []
  }
 ],
 "metadata": {
  "kernelspec": {
   "display_name": "Python 3",
   "language": "python",
   "name": "python3"
  },
  "language_info": {
   "codemirror_mode": {
    "name": "ipython",
    "version": 3
   },
   "file_extension": ".py",
   "mimetype": "text/x-python",
   "name": "python",
   "nbconvert_exporter": "python",
   "pygments_lexer": "ipython3",
   "version": "3.6.3"
  }
 },
 "nbformat": 4,
 "nbformat_minor": 2
}
